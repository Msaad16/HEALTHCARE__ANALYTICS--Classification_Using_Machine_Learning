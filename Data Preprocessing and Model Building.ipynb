{
 "cells": [
  {
   "cell_type": "markdown",
   "id": "ce3fa3ed",
   "metadata": {},
   "source": [
    "# FEATURE ENGINEERING AND SELECTION"
   ]
  },
  {
   "cell_type": "code",
   "execution_count": 1,
   "id": "f4759b87",
   "metadata": {},
   "outputs": [],
   "source": [
    "import pandas as pd\n",
    "import numpy as np\n",
    "import matplotlib.pyplot as plt\n",
    "import seaborn as sns\n",
    "%matplotlib inline"
   ]
  },
  {
   "cell_type": "markdown",
   "id": "b2b8309f",
   "metadata": {},
   "source": [
    "Let us start with importing our data"
   ]
  },
  {
   "cell_type": "code",
   "execution_count": 2,
   "id": "fbfb7b43",
   "metadata": {},
   "outputs": [],
   "source": [
    "df=pd.read_csv('Healthcare data.csv')"
   ]
  },
  {
   "cell_type": "markdown",
   "id": "e5186fda",
   "metadata": {},
   "source": [
    "We will begin with dropping irrelevant variables as decided during the exploratory data analysis"
   ]
  },
  {
   "cell_type": "markdown",
   "id": "afd4bae4",
   "metadata": {},
   "source": [
    "# FEATURE ENGINEERING"
   ]
  },
  {
   "cell_type": "code",
   "execution_count": 3,
   "id": "6e9ce0dd",
   "metadata": {},
   "outputs": [],
   "source": [
    "df=df.drop(['case_id', 'patientid', 'City_Code_Patient',  'City_Code_Hospital', 'Hospital_code'], axis=1)"
   ]
  },
  {
   "cell_type": "markdown",
   "id": "bbc5b61c",
   "metadata": {},
   "source": [
    "During EDA, we saw that 'Bed Grade' and 'City_Code_Hospital' features had some missing values. Since the later has been dropped, we will be dealing only with the first one. "
   ]
  },
  {
   "cell_type": "code",
   "execution_count": 4,
   "id": "17a1ec03",
   "metadata": {},
   "outputs": [
    {
     "data": {
      "text/plain": [
       "Hospital_type_code                     0\n",
       "Hospital_region_code                   0\n",
       "Available Extra Rooms in Hospital      0\n",
       "Department                             0\n",
       "Ward_Type                              0\n",
       "Ward_Facility_Code                     0\n",
       "Bed Grade                            113\n",
       "Type of Admission                      0\n",
       "Severity of Illness                    0\n",
       "Visitors with Patient                  0\n",
       "Age                                    0\n",
       "Admission_Deposit                      0\n",
       "Stay                                   0\n",
       "dtype: int64"
      ]
     },
     "execution_count": 4,
     "metadata": {},
     "output_type": "execute_result"
    }
   ],
   "source": [
    "df.isnull().sum()"
   ]
  },
  {
   "cell_type": "code",
   "execution_count": 5,
   "id": "9de24b84",
   "metadata": {},
   "outputs": [
    {
     "data": {
      "text/plain": [
       "113"
      ]
     },
     "execution_count": 5,
     "metadata": {},
     "output_type": "execute_result"
    }
   ],
   "source": [
    "a=df['Bed Grade'].isnull().sum()\n",
    "a"
   ]
  },
  {
   "cell_type": "markdown",
   "id": "3a554044",
   "metadata": {},
   "source": [
    "So, there are 113 missing values for the bed grade."
   ]
  },
  {
   "cell_type": "code",
   "execution_count": 6,
   "id": "34c6913a",
   "metadata": {},
   "outputs": [],
   "source": [
    "b=len(df['Bed Grade'])"
   ]
  },
  {
   "cell_type": "code",
   "execution_count": 7,
   "id": "9c27e32e",
   "metadata": {},
   "outputs": [
    {
     "data": {
      "text/plain": [
       "(113, 318438)"
      ]
     },
     "execution_count": 7,
     "metadata": {},
     "output_type": "execute_result"
    }
   ],
   "source": [
    "a, b"
   ]
  },
  {
   "cell_type": "code",
   "execution_count": 8,
   "id": "78a94f3b",
   "metadata": {},
   "outputs": [
    {
     "data": {
      "text/plain": [
       "0.035485714644609"
      ]
     },
     "execution_count": 8,
     "metadata": {},
     "output_type": "execute_result"
    }
   ],
   "source": [
    "(a/b)*100"
   ]
  },
  {
   "cell_type": "markdown",
   "id": "b5d818d7",
   "metadata": {},
   "source": [
    "The missing values for the variable 'Bed Grade' are approximately 3.5%. Thus, we can replace the missing values with the most recurring values. Let us have a look at the countplot for the variable"
   ]
  },
  {
   "cell_type": "code",
   "execution_count": 9,
   "id": "607889b2",
   "metadata": {},
   "outputs": [
    {
     "name": "stderr",
     "output_type": "stream",
     "text": [
      "C:\\Users\\Faayez\\anaconda3\\lib\\site-packages\\seaborn\\_decorators.py:36: FutureWarning: Pass the following variable as a keyword arg: x. From version 0.12, the only valid positional argument will be `data`, and passing other arguments without an explicit keyword will result in an error or misinterpretation.\n",
      "  warnings.warn(\n"
     ]
    },
    {
     "data": {
      "text/plain": [
       "<AxesSubplot:xlabel='Bed Grade', ylabel='count'>"
      ]
     },
     "execution_count": 9,
     "metadata": {},
     "output_type": "execute_result"
    },
    {
     "data": {
      "image/png": "[encoded data removed]",
      "text/plain": [
       "<Figure size 640x480 with 1 Axes>"
      ]
     },
     "metadata": {},
     "output_type": "display_data"
    }
   ],
   "source": [
    "sns.countplot('Bed Grade', data=df)"
   ]
  },
  {
   "cell_type": "markdown",
   "id": "5b0c7210",
   "metadata": {},
   "source": [
    "The most recurring value for the variable is 2.0, therefore we will fill this value in place of the missing values."
   ]
  },
  {
   "cell_type": "code",
   "execution_count": 10,
   "id": "4e5e4017",
   "metadata": {},
   "outputs": [],
   "source": [
    "df['Bed Grade']=df['Bed Grade'].replace([np.nan], df['Bed Grade'].mode())"
   ]
  },
  {
   "cell_type": "markdown",
   "id": "429bea27",
   "metadata": {},
   "source": [
    "We can now check if there are any null values for this variable."
   ]
  },
  {
   "cell_type": "code",
   "execution_count": 11,
   "id": "07730631",
   "metadata": {},
   "outputs": [
    {
     "data": {
      "text/plain": [
       "0"
      ]
     },
     "execution_count": 11,
     "metadata": {},
     "output_type": "execute_result"
    }
   ],
   "source": [
    "df['Bed Grade'].isnull().sum()"
   ]
  },
  {
   "cell_type": "markdown",
   "id": "31c96748",
   "metadata": {},
   "source": [
    "So, there are no more null values. "
   ]
  },
  {
   "cell_type": "markdown",
   "id": "f6dba004",
   "metadata": {},
   "source": [
    "# FEATURE SELECTION"
   ]
  },
  {
   "cell_type": "markdown",
   "id": "bbe7f5ad",
   "metadata": {},
   "source": [
    "We have a lot of categorical variables in our data. Since the dependent variable is also dependent it makes sense to perform a chi square test of independence. "
   ]
  },
  {
   "cell_type": "code",
   "execution_count": 12,
   "id": "e3ec7df7",
   "metadata": {},
   "outputs": [],
   "source": [
    "from bioinfokit.analys import stat"
   ]
  },
  {
   "cell_type": "markdown",
   "id": "005c51c6",
   "metadata": {},
   "source": [
    "We will set the following null and alternate hypothesis for the variables - Hospital_type_code, Hospital_region_code, Department, Ward_Type, Ward_Facility_Code, Type of Admission, Severity of Illness and Age, as follow:"
   ]
  },
  {
   "cell_type": "markdown",
   "id": "673d93f0",
   "metadata": {},
   "source": [
    "H0: There is NO relationship between the categorical variable and the dependent variable"
   ]
  },
  {
   "cell_type": "markdown",
   "id": "e24a1ac6",
   "metadata": {},
   "source": [
    "H1: There is a relationship between the categorical variable and the dependent variable"
   ]
  },
  {
   "cell_type": "markdown",
   "id": "2f0b11ff",
   "metadata": {},
   "source": [
    "We will be testing these hypotheses at significance level (alpha) = 0.05."
   ]
  },
  {
   "cell_type": "markdown",
   "id": "29e1a33d",
   "metadata": {},
   "source": [
    "**Chi2 test for Hospital_type_code**"
   ]
  },
  {
   "cell_type": "code",
   "execution_count": 13,
   "id": "8ee8ebde",
   "metadata": {},
   "outputs": [
    {
     "data": {
      "text/html": [
       "<div>\n",
       "<style scoped>\n",
       "    .dataframe tbody tr th:only-of-type {\n",
       "        vertical-align: middle;\n",
       "    }\n",
       "\n",
       "    .dataframe tbody tr th {\n",
       "        vertical-align: top;\n",
       "    }\n",
       "\n",
       "    .dataframe thead th {\n",
       "        text-align: right;\n",
       "    }\n",
       "</style>\n",
       "<table border=\"1\" class=\"dataframe\">\n",
       "  <thead>\n",
       "    <tr style=\"text-align: right;\">\n",
       "      <th>Hospital_type_code</th>\n",
       "      <th>a</th>\n",
       "      <th>b</th>\n",
       "      <th>c</th>\n",
       "      <th>d</th>\n",
       "      <th>e</th>\n",
       "      <th>f</th>\n",
       "      <th>g</th>\n",
       "    </tr>\n",
       "    <tr>\n",
       "      <th>Stay</th>\n",
       "      <th></th>\n",
       "      <th></th>\n",
       "      <th></th>\n",
       "      <th></th>\n",
       "      <th></th>\n",
       "      <th></th>\n",
       "      <th></th>\n",
       "    </tr>\n",
       "  </thead>\n",
       "  <tbody>\n",
       "    <tr>\n",
       "      <th>0-10</th>\n",
       "      <td>10559</td>\n",
       "      <td>5145</td>\n",
       "      <td>3588</td>\n",
       "      <td>1314</td>\n",
       "      <td>1805</td>\n",
       "      <td>1023</td>\n",
       "      <td>170</td>\n",
       "    </tr>\n",
       "    <tr>\n",
       "      <th>11-20</th>\n",
       "      <td>39807</td>\n",
       "      <td>13933</td>\n",
       "      <td>10318</td>\n",
       "      <td>4423</td>\n",
       "      <td>6644</td>\n",
       "      <td>2332</td>\n",
       "      <td>682</td>\n",
       "    </tr>\n",
       "    <tr>\n",
       "      <th>21-30</th>\n",
       "      <td>40286</td>\n",
       "      <td>19541</td>\n",
       "      <td>12526</td>\n",
       "      <td>5527</td>\n",
       "      <td>6524</td>\n",
       "      <td>1897</td>\n",
       "      <td>1190</td>\n",
       "    </tr>\n",
       "    <tr>\n",
       "      <th>31-40</th>\n",
       "      <td>23974</td>\n",
       "      <td>12385</td>\n",
       "      <td>8222</td>\n",
       "      <td>3706</td>\n",
       "      <td>4060</td>\n",
       "      <td>2093</td>\n",
       "      <td>719</td>\n",
       "    </tr>\n",
       "    <tr>\n",
       "      <th>41-50</th>\n",
       "      <td>4111</td>\n",
       "      <td>3893</td>\n",
       "      <td>1872</td>\n",
       "      <td>760</td>\n",
       "      <td>764</td>\n",
       "      <td>204</td>\n",
       "      <td>139</td>\n",
       "    </tr>\n",
       "    <tr>\n",
       "      <th>51-60</th>\n",
       "      <td>14617</td>\n",
       "      <td>6909</td>\n",
       "      <td>5176</td>\n",
       "      <td>2713</td>\n",
       "      <td>2832</td>\n",
       "      <td>1960</td>\n",
       "      <td>811</td>\n",
       "    </tr>\n",
       "    <tr>\n",
       "      <th>61-70</th>\n",
       "      <td>924</td>\n",
       "      <td>917</td>\n",
       "      <td>430</td>\n",
       "      <td>186</td>\n",
       "      <td>197</td>\n",
       "      <td>44</td>\n",
       "      <td>46</td>\n",
       "    </tr>\n",
       "    <tr>\n",
       "      <th>71-80</th>\n",
       "      <td>3722</td>\n",
       "      <td>2608</td>\n",
       "      <td>1611</td>\n",
       "      <td>761</td>\n",
       "      <td>824</td>\n",
       "      <td>482</td>\n",
       "      <td>246</td>\n",
       "    </tr>\n",
       "    <tr>\n",
       "      <th>81-90</th>\n",
       "      <td>1890</td>\n",
       "      <td>1026</td>\n",
       "      <td>725</td>\n",
       "      <td>421</td>\n",
       "      <td>395</td>\n",
       "      <td>254</td>\n",
       "      <td>127</td>\n",
       "    </tr>\n",
       "    <tr>\n",
       "      <th>91-100</th>\n",
       "      <td>962</td>\n",
       "      <td>783</td>\n",
       "      <td>439</td>\n",
       "      <td>180</td>\n",
       "      <td>218</td>\n",
       "      <td>138</td>\n",
       "      <td>45</td>\n",
       "    </tr>\n",
       "    <tr>\n",
       "      <th>More than 100 Days</th>\n",
       "      <td>2573</td>\n",
       "      <td>1806</td>\n",
       "      <td>1021</td>\n",
       "      <td>398</td>\n",
       "      <td>507</td>\n",
       "      <td>276</td>\n",
       "      <td>102</td>\n",
       "    </tr>\n",
       "  </tbody>\n",
       "</table>\n",
       "</div>"
      ],
      "text/plain": [
       "Hospital_type_code      a      b      c     d     e     f     g\n",
       "Stay                                                           \n",
       "0-10                10559   5145   3588  1314  1805  1023   170\n",
       "11-20               39807  13933  10318  4423  6644  2332   682\n",
       "21-30               40286  19541  12526  5527  6524  1897  1190\n",
       "31-40               23974  12385   8222  3706  4060  2093   719\n",
       "41-50                4111   3893   1872   760   764   204   139\n",
       "51-60               14617   6909   5176  2713  2832  1960   811\n",
       "61-70                 924    917    430   186   197    44    46\n",
       "71-80                3722   2608   1611   761   824   482   246\n",
       "81-90                1890   1026    725   421   395   254   127\n",
       "91-100                962    783    439   180   218   138    45\n",
       "More than 100 Days   2573   1806   1021   398   507   276   102"
      ]
     },
     "execution_count": 13,
     "metadata": {},
     "output_type": "execute_result"
    }
   ],
   "source": [
    "stayVShtype=pd.pivot_table(df[['Hospital_type_code', 'Stay']], index='Hospital_type_code', columns='Stay', aggfunc=len).transpose()\n",
    "stayVShtype"
   ]
  },
  {
   "cell_type": "code",
   "execution_count": 14,
   "id": "559c2b63",
   "metadata": {},
   "outputs": [
    {
     "name": "stdout",
     "output_type": "stream",
     "text": [
      "\n",
      "Chi-squared test for independence\n",
      "\n",
      "Test              Df    Chi-square    P-value\n",
      "--------------  ----  ------------  ---------\n",
      "Pearson           60       5540.64          0\n",
      "Log-likelihood    60       5386.06          0\n",
      "\n"
     ]
    }
   ],
   "source": [
    "res=stat()\n",
    "res.chisq(stayVShtype)\n",
    "print(res.summary)"
   ]
  },
  {
   "cell_type": "markdown",
   "id": "3bf77ae1",
   "metadata": {},
   "source": [
    "Since P-value is less than 0.05, we will be keeping this variable in the model"
   ]
  },
  {
   "cell_type": "markdown",
   "id": "70096b3c",
   "metadata": {},
   "source": [
    "**Chi2 test for Hospital_region_code**"
   ]
  },
  {
   "cell_type": "code",
   "execution_count": 15,
   "id": "df763799",
   "metadata": {},
   "outputs": [
    {
     "data": {
      "text/html": [
       "<div>\n",
       "<style scoped>\n",
       "    .dataframe tbody tr th:only-of-type {\n",
       "        vertical-align: middle;\n",
       "    }\n",
       "\n",
       "    .dataframe tbody tr th {\n",
       "        vertical-align: top;\n",
       "    }\n",
       "\n",
       "    .dataframe thead th {\n",
       "        text-align: right;\n",
       "    }\n",
       "</style>\n",
       "<table border=\"1\" class=\"dataframe\">\n",
       "  <thead>\n",
       "    <tr style=\"text-align: right;\">\n",
       "      <th>Hospital_region_code</th>\n",
       "      <th>X</th>\n",
       "      <th>Y</th>\n",
       "      <th>Z</th>\n",
       "    </tr>\n",
       "    <tr>\n",
       "      <th>Stay</th>\n",
       "      <th></th>\n",
       "      <th></th>\n",
       "      <th></th>\n",
       "    </tr>\n",
       "  </thead>\n",
       "  <tbody>\n",
       "    <tr>\n",
       "      <th>0-10</th>\n",
       "      <td>8145</td>\n",
       "      <td>10447</td>\n",
       "      <td>5012</td>\n",
       "    </tr>\n",
       "    <tr>\n",
       "      <th>11-20</th>\n",
       "      <td>33885</td>\n",
       "      <td>29786</td>\n",
       "      <td>14468</td>\n",
       "    </tr>\n",
       "    <tr>\n",
       "      <th>21-30</th>\n",
       "      <td>38768</td>\n",
       "      <td>31595</td>\n",
       "      <td>17128</td>\n",
       "    </tr>\n",
       "    <tr>\n",
       "      <th>31-40</th>\n",
       "      <td>22830</td>\n",
       "      <td>21314</td>\n",
       "      <td>11015</td>\n",
       "    </tr>\n",
       "    <tr>\n",
       "      <th>41-50</th>\n",
       "      <td>4405</td>\n",
       "      <td>5036</td>\n",
       "      <td>2302</td>\n",
       "    </tr>\n",
       "    <tr>\n",
       "      <th>51-60</th>\n",
       "      <td>14723</td>\n",
       "      <td>13023</td>\n",
       "      <td>7272</td>\n",
       "    </tr>\n",
       "    <tr>\n",
       "      <th>61-70</th>\n",
       "      <td>1012</td>\n",
       "      <td>1184</td>\n",
       "      <td>548</td>\n",
       "    </tr>\n",
       "    <tr>\n",
       "      <th>71-80</th>\n",
       "      <td>4091</td>\n",
       "      <td>4069</td>\n",
       "      <td>2094</td>\n",
       "    </tr>\n",
       "    <tr>\n",
       "      <th>81-90</th>\n",
       "      <td>1910</td>\n",
       "      <td>1940</td>\n",
       "      <td>988</td>\n",
       "    </tr>\n",
       "    <tr>\n",
       "      <th>91-100</th>\n",
       "      <td>1147</td>\n",
       "      <td>1068</td>\n",
       "      <td>550</td>\n",
       "    </tr>\n",
       "    <tr>\n",
       "      <th>More than 100 Days</th>\n",
       "      <td>2420</td>\n",
       "      <td>2966</td>\n",
       "      <td>1297</td>\n",
       "    </tr>\n",
       "  </tbody>\n",
       "</table>\n",
       "</div>"
      ],
      "text/plain": [
       "Hospital_region_code      X      Y      Z\n",
       "Stay                                     \n",
       "0-10                   8145  10447   5012\n",
       "11-20                 33885  29786  14468\n",
       "21-30                 38768  31595  17128\n",
       "31-40                 22830  21314  11015\n",
       "41-50                  4405   5036   2302\n",
       "51-60                 14723  13023   7272\n",
       "61-70                  1012   1184    548\n",
       "71-80                  4091   4069   2094\n",
       "81-90                  1910   1940    988\n",
       "91-100                 1147   1068    550\n",
       "More than 100 Days     2420   2966   1297"
      ]
     },
     "execution_count": 15,
     "metadata": {},
     "output_type": "execute_result"
    }
   ],
   "source": [
    "stayVShrcode=pd.pivot_table(df[['Hospital_region_code', 'Stay']], index='Hospital_region_code', columns='Stay', aggfunc=len).transpose()\n",
    "stayVShrcode"
   ]
  },
  {
   "cell_type": "code",
   "execution_count": 16,
   "id": "d23aba69",
   "metadata": {},
   "outputs": [
    {
     "name": "stdout",
     "output_type": "stream",
     "text": [
      "\n",
      "Chi-squared test for independence\n",
      "\n",
      "Test              Df    Chi-square       P-value\n",
      "--------------  ----  ------------  ------------\n",
      "Pearson           20       1216.59  2.10724e-245\n",
      "Log-likelihood    20       1226.01  2.03965e-247\n",
      "\n"
     ]
    }
   ],
   "source": [
    "res1=stat()\n",
    "res1.chisq(stayVShrcode)\n",
    "print(res1.summary)"
   ]
  },
  {
   "cell_type": "markdown",
   "id": "892cc7ae",
   "metadata": {},
   "source": [
    "Since P-value is less than 0.05, we will be keeping this variable in the model"
   ]
  },
  {
   "cell_type": "markdown",
   "id": "2869ca85",
   "metadata": {},
   "source": [
    "**Chi2 test for Department**"
   ]
  },
  {
   "cell_type": "code",
   "execution_count": 17,
   "id": "625a038b",
   "metadata": {},
   "outputs": [
    {
     "data": {
      "text/html": [
       "<div>\n",
       "<style scoped>\n",
       "    .dataframe tbody tr th:only-of-type {\n",
       "        vertical-align: middle;\n",
       "    }\n",
       "\n",
       "    .dataframe tbody tr th {\n",
       "        vertical-align: top;\n",
       "    }\n",
       "\n",
       "    .dataframe thead th {\n",
       "        text-align: right;\n",
       "    }\n",
       "</style>\n",
       "<table border=\"1\" class=\"dataframe\">\n",
       "  <thead>\n",
       "    <tr style=\"text-align: right;\">\n",
       "      <th>Department</th>\n",
       "      <th>TB &amp; Chest disease</th>\n",
       "      <th>anesthesia</th>\n",
       "      <th>gynecology</th>\n",
       "      <th>radiotherapy</th>\n",
       "      <th>surgery</th>\n",
       "    </tr>\n",
       "    <tr>\n",
       "      <th>Stay</th>\n",
       "      <th></th>\n",
       "      <th></th>\n",
       "      <th></th>\n",
       "      <th></th>\n",
       "      <th></th>\n",
       "    </tr>\n",
       "  </thead>\n",
       "  <tbody>\n",
       "    <tr>\n",
       "      <th>0-10</th>\n",
       "      <td>791</td>\n",
       "      <td>1519</td>\n",
       "      <td>18849</td>\n",
       "      <td>2379</td>\n",
       "      <td>66</td>\n",
       "    </tr>\n",
       "    <tr>\n",
       "      <th>11-20</th>\n",
       "      <td>2379</td>\n",
       "      <td>8823</td>\n",
       "      <td>59690</td>\n",
       "      <td>6988</td>\n",
       "      <td>259</td>\n",
       "    </tr>\n",
       "    <tr>\n",
       "      <th>21-30</th>\n",
       "      <td>2618</td>\n",
       "      <td>8950</td>\n",
       "      <td>68383</td>\n",
       "      <td>7263</td>\n",
       "      <td>277</td>\n",
       "    </tr>\n",
       "    <tr>\n",
       "      <th>31-40</th>\n",
       "      <td>1753</td>\n",
       "      <td>4958</td>\n",
       "      <td>43535</td>\n",
       "      <td>4713</td>\n",
       "      <td>200</td>\n",
       "    </tr>\n",
       "    <tr>\n",
       "      <th>41-50</th>\n",
       "      <td>300</td>\n",
       "      <td>851</td>\n",
       "      <td>9671</td>\n",
       "      <td>879</td>\n",
       "      <td>42</td>\n",
       "    </tr>\n",
       "    <tr>\n",
       "      <th>51-60</th>\n",
       "      <td>1047</td>\n",
       "      <td>2527</td>\n",
       "      <td>27989</td>\n",
       "      <td>3256</td>\n",
       "      <td>199</td>\n",
       "    </tr>\n",
       "    <tr>\n",
       "      <th>61-70</th>\n",
       "      <td>76</td>\n",
       "      <td>173</td>\n",
       "      <td>2226</td>\n",
       "      <td>264</td>\n",
       "      <td>5</td>\n",
       "    </tr>\n",
       "    <tr>\n",
       "      <th>71-80</th>\n",
       "      <td>294</td>\n",
       "      <td>703</td>\n",
       "      <td>8165</td>\n",
       "      <td>1043</td>\n",
       "      <td>49</td>\n",
       "    </tr>\n",
       "    <tr>\n",
       "      <th>81-90</th>\n",
       "      <td>140</td>\n",
       "      <td>384</td>\n",
       "      <td>3748</td>\n",
       "      <td>528</td>\n",
       "      <td>38</td>\n",
       "    </tr>\n",
       "    <tr>\n",
       "      <th>91-100</th>\n",
       "      <td>64</td>\n",
       "      <td>156</td>\n",
       "      <td>2269</td>\n",
       "      <td>256</td>\n",
       "      <td>20</td>\n",
       "    </tr>\n",
       "    <tr>\n",
       "      <th>More than 100 Days</th>\n",
       "      <td>124</td>\n",
       "      <td>605</td>\n",
       "      <td>4961</td>\n",
       "      <td>947</td>\n",
       "      <td>46</td>\n",
       "    </tr>\n",
       "  </tbody>\n",
       "</table>\n",
       "</div>"
      ],
      "text/plain": [
       "Department          TB & Chest disease  anesthesia  gynecology  radiotherapy  \\\n",
       "Stay                                                                           \n",
       "0-10                               791        1519       18849          2379   \n",
       "11-20                             2379        8823       59690          6988   \n",
       "21-30                             2618        8950       68383          7263   \n",
       "31-40                             1753        4958       43535          4713   \n",
       "41-50                              300         851        9671           879   \n",
       "51-60                             1047        2527       27989          3256   \n",
       "61-70                               76         173        2226           264   \n",
       "71-80                              294         703        8165          1043   \n",
       "81-90                              140         384        3748           528   \n",
       "91-100                              64         156        2269           256   \n",
       "More than 100 Days                 124         605        4961           947   \n",
       "\n",
       "Department          surgery  \n",
       "Stay                         \n",
       "0-10                     66  \n",
       "11-20                   259  \n",
       "21-30                   277  \n",
       "31-40                   200  \n",
       "41-50                    42  \n",
       "51-60                   199  \n",
       "61-70                     5  \n",
       "71-80                    49  \n",
       "81-90                    38  \n",
       "91-100                   20  \n",
       "More than 100 Days       46  "
      ]
     },
     "execution_count": 17,
     "metadata": {},
     "output_type": "execute_result"
    }
   ],
   "source": [
    "stayVSDepartment=pd.pivot_table(df[['Department', 'Stay']], index='Department', columns='Stay', aggfunc=len).transpose()\n",
    "stayVSDepartment"
   ]
  },
  {
   "cell_type": "code",
   "execution_count": 18,
   "id": "1c9b1a87",
   "metadata": {},
   "outputs": [
    {
     "name": "stdout",
     "output_type": "stream",
     "text": [
      "\n",
      "Chi-squared test for independence\n",
      "\n",
      "Test              Df    Chi-square    P-value\n",
      "--------------  ----  ------------  ---------\n",
      "Pearson           40       1618.92          0\n",
      "Log-likelihood    40       1617.26          0\n",
      "\n"
     ]
    }
   ],
   "source": [
    "res2=stat()\n",
    "res2.chisq(stayVSDepartment)\n",
    "print(res2.summary)"
   ]
  },
  {
   "cell_type": "markdown",
   "id": "15ef8260",
   "metadata": {},
   "source": [
    "Since P-value is less than 0.05, we will be keeping this variable in the model"
   ]
  },
  {
   "cell_type": "markdown",
   "id": "20b571f3",
   "metadata": {},
   "source": [
    "**Chi2 test for Ward_Type**"
   ]
  },
  {
   "cell_type": "code",
   "execution_count": 19,
   "id": "a87a6fc8",
   "metadata": {},
   "outputs": [
    {
     "data": {
      "text/html": [
       "<div>\n",
       "<style scoped>\n",
       "    .dataframe tbody tr th:only-of-type {\n",
       "        vertical-align: middle;\n",
       "    }\n",
       "\n",
       "    .dataframe tbody tr th {\n",
       "        vertical-align: top;\n",
       "    }\n",
       "\n",
       "    .dataframe thead th {\n",
       "        text-align: right;\n",
       "    }\n",
       "</style>\n",
       "<table border=\"1\" class=\"dataframe\">\n",
       "  <thead>\n",
       "    <tr style=\"text-align: right;\">\n",
       "      <th>Ward_Type</th>\n",
       "      <th>P</th>\n",
       "      <th>Q</th>\n",
       "      <th>R</th>\n",
       "      <th>S</th>\n",
       "      <th>T</th>\n",
       "      <th>U</th>\n",
       "    </tr>\n",
       "    <tr>\n",
       "      <th>Stay</th>\n",
       "      <th></th>\n",
       "      <th></th>\n",
       "      <th></th>\n",
       "      <th></th>\n",
       "      <th></th>\n",
       "      <th></th>\n",
       "    </tr>\n",
       "  </thead>\n",
       "  <tbody>\n",
       "    <tr>\n",
       "      <th>0-10</th>\n",
       "      <td>461.0</td>\n",
       "      <td>8315.0</td>\n",
       "      <td>9310.0</td>\n",
       "      <td>5407.0</td>\n",
       "      <td>110.0</td>\n",
       "      <td>1.0</td>\n",
       "    </tr>\n",
       "    <tr>\n",
       "      <th>11-20</th>\n",
       "      <td>1393.0</td>\n",
       "      <td>29204.0</td>\n",
       "      <td>31621.0</td>\n",
       "      <td>15649.0</td>\n",
       "      <td>269.0</td>\n",
       "      <td>3.0</td>\n",
       "    </tr>\n",
       "    <tr>\n",
       "      <th>21-30</th>\n",
       "      <td>1802.0</td>\n",
       "      <td>34736.0</td>\n",
       "      <td>36698.0</td>\n",
       "      <td>13862.0</td>\n",
       "      <td>390.0</td>\n",
       "      <td>3.0</td>\n",
       "    </tr>\n",
       "    <tr>\n",
       "      <th>31-40</th>\n",
       "      <td>745.0</td>\n",
       "      <td>17177.0</td>\n",
       "      <td>22047.0</td>\n",
       "      <td>14897.0</td>\n",
       "      <td>291.0</td>\n",
       "      <td>2.0</td>\n",
       "    </tr>\n",
       "    <tr>\n",
       "      <th>41-50</th>\n",
       "      <td>285.0</td>\n",
       "      <td>4946.0</td>\n",
       "      <td>4269.0</td>\n",
       "      <td>2174.0</td>\n",
       "      <td>69.0</td>\n",
       "      <td>0.0</td>\n",
       "    </tr>\n",
       "    <tr>\n",
       "      <th>51-60</th>\n",
       "      <td>186.0</td>\n",
       "      <td>6507.0</td>\n",
       "      <td>13733.0</td>\n",
       "      <td>14402.0</td>\n",
       "      <td>190.0</td>\n",
       "      <td>0.0</td>\n",
       "    </tr>\n",
       "    <tr>\n",
       "      <th>61-70</th>\n",
       "      <td>73.0</td>\n",
       "      <td>986.0</td>\n",
       "      <td>1045.0</td>\n",
       "      <td>627.0</td>\n",
       "      <td>13.0</td>\n",
       "      <td>0.0</td>\n",
       "    </tr>\n",
       "    <tr>\n",
       "      <th>71-80</th>\n",
       "      <td>53.0</td>\n",
       "      <td>1953.0</td>\n",
       "      <td>4006.0</td>\n",
       "      <td>4186.0</td>\n",
       "      <td>56.0</td>\n",
       "      <td>0.0</td>\n",
       "    </tr>\n",
       "    <tr>\n",
       "      <th>81-90</th>\n",
       "      <td>14.0</td>\n",
       "      <td>792.0</td>\n",
       "      <td>1692.0</td>\n",
       "      <td>2301.0</td>\n",
       "      <td>39.0</td>\n",
       "      <td>0.0</td>\n",
       "    </tr>\n",
       "    <tr>\n",
       "      <th>91-100</th>\n",
       "      <td>16.0</td>\n",
       "      <td>461.0</td>\n",
       "      <td>1118.0</td>\n",
       "      <td>1150.0</td>\n",
       "      <td>20.0</td>\n",
       "      <td>0.0</td>\n",
       "    </tr>\n",
       "    <tr>\n",
       "      <th>More than 100 Days</th>\n",
       "      <td>18.0</td>\n",
       "      <td>1088.0</td>\n",
       "      <td>2408.0</td>\n",
       "      <td>3139.0</td>\n",
       "      <td>30.0</td>\n",
       "      <td>0.0</td>\n",
       "    </tr>\n",
       "  </tbody>\n",
       "</table>\n",
       "</div>"
      ],
      "text/plain": [
       "Ward_Type                P        Q        R        S      T    U\n",
       "Stay                                                             \n",
       "0-10                 461.0   8315.0   9310.0   5407.0  110.0  1.0\n",
       "11-20               1393.0  29204.0  31621.0  15649.0  269.0  3.0\n",
       "21-30               1802.0  34736.0  36698.0  13862.0  390.0  3.0\n",
       "31-40                745.0  17177.0  22047.0  14897.0  291.0  2.0\n",
       "41-50                285.0   4946.0   4269.0   2174.0   69.0  0.0\n",
       "51-60                186.0   6507.0  13733.0  14402.0  190.0  0.0\n",
       "61-70                 73.0    986.0   1045.0    627.0   13.0  0.0\n",
       "71-80                 53.0   1953.0   4006.0   4186.0   56.0  0.0\n",
       "81-90                 14.0    792.0   1692.0   2301.0   39.0  0.0\n",
       "91-100                16.0    461.0   1118.0   1150.0   20.0  0.0\n",
       "More than 100 Days    18.0   1088.0   2408.0   3139.0   30.0  0.0"
      ]
     },
     "execution_count": 19,
     "metadata": {},
     "output_type": "execute_result"
    }
   ],
   "source": [
    "stayVSwtype=pd.pivot_table(df[['Ward_Type', 'Stay']], index='Ward_Type', columns='Stay', aggfunc=len).transpose()\n",
    "stayVSwtype= stayVSwtype.fillna(0)\n",
    "stayVSwtype"
   ]
  },
  {
   "cell_type": "code",
   "execution_count": 20,
   "id": "b9b60fc0",
   "metadata": {},
   "outputs": [
    {
     "name": "stdout",
     "output_type": "stream",
     "text": [
      "\n",
      "Chi-squared test for independence\n",
      "\n",
      "Test              Df    Chi-square    P-value\n",
      "--------------  ----  ------------  ---------\n",
      "Pearson           50       18451.4          0\n",
      "Log-likelihood    50       18326.2          0\n",
      "\n"
     ]
    }
   ],
   "source": [
    "res3=stat()\n",
    "res3.chisq(stayVSwtype)\n",
    "print(res3.summary)"
   ]
  },
  {
   "cell_type": "markdown",
   "id": "eadf657b",
   "metadata": {},
   "source": [
    "Since P-value is less than 0.05, we will be keeping this variable in the model"
   ]
  },
  {
   "cell_type": "markdown",
   "id": "aec6df24",
   "metadata": {},
   "source": [
    "**Chi2 test for Ward_Facility_Code**"
   ]
  },
  {
   "cell_type": "code",
   "execution_count": 21,
   "id": "36518840",
   "metadata": {},
   "outputs": [
    {
     "data": {
      "text/html": [
       "<div>\n",
       "<style scoped>\n",
       "    .dataframe tbody tr th:only-of-type {\n",
       "        vertical-align: middle;\n",
       "    }\n",
       "\n",
       "    .dataframe tbody tr th {\n",
       "        vertical-align: top;\n",
       "    }\n",
       "\n",
       "    .dataframe thead th {\n",
       "        text-align: right;\n",
       "    }\n",
       "</style>\n",
       "<table border=\"1\" class=\"dataframe\">\n",
       "  <thead>\n",
       "    <tr style=\"text-align: right;\">\n",
       "      <th>Ward_Facility_Code</th>\n",
       "      <th>A</th>\n",
       "      <th>B</th>\n",
       "      <th>C</th>\n",
       "      <th>D</th>\n",
       "      <th>E</th>\n",
       "      <th>F</th>\n",
       "    </tr>\n",
       "    <tr>\n",
       "      <th>Stay</th>\n",
       "      <th></th>\n",
       "      <th></th>\n",
       "      <th></th>\n",
       "      <th></th>\n",
       "      <th></th>\n",
       "      <th></th>\n",
       "    </tr>\n",
       "  </thead>\n",
       "  <tbody>\n",
       "    <tr>\n",
       "      <th>0-10</th>\n",
       "      <td>2382</td>\n",
       "      <td>2607</td>\n",
       "      <td>3921</td>\n",
       "      <td>3919</td>\n",
       "      <td>3486</td>\n",
       "      <td>7289</td>\n",
       "    </tr>\n",
       "    <tr>\n",
       "      <th>11-20</th>\n",
       "      <td>6135</td>\n",
       "      <td>7874</td>\n",
       "      <td>12068</td>\n",
       "      <td>9844</td>\n",
       "      <td>15081</td>\n",
       "      <td>27137</td>\n",
       "    </tr>\n",
       "    <tr>\n",
       "      <th>21-30</th>\n",
       "      <td>7476</td>\n",
       "      <td>8629</td>\n",
       "      <td>7867</td>\n",
       "      <td>15099</td>\n",
       "      <td>16357</td>\n",
       "      <td>32063</td>\n",
       "    </tr>\n",
       "    <tr>\n",
       "      <th>31-40</th>\n",
       "      <td>5003</td>\n",
       "      <td>6421</td>\n",
       "      <td>5591</td>\n",
       "      <td>9302</td>\n",
       "      <td>9215</td>\n",
       "      <td>19627</td>\n",
       "    </tr>\n",
       "    <tr>\n",
       "      <th>41-50</th>\n",
       "      <td>1198</td>\n",
       "      <td>1090</td>\n",
       "      <td>595</td>\n",
       "      <td>3351</td>\n",
       "      <td>1704</td>\n",
       "      <td>3805</td>\n",
       "    </tr>\n",
       "    <tr>\n",
       "      <th>51-60</th>\n",
       "      <td>3155</td>\n",
       "      <td>5059</td>\n",
       "      <td>3225</td>\n",
       "      <td>4739</td>\n",
       "      <td>5608</td>\n",
       "      <td>13232</td>\n",
       "    </tr>\n",
       "    <tr>\n",
       "      <th>61-70</th>\n",
       "      <td>255</td>\n",
       "      <td>250</td>\n",
       "      <td>138</td>\n",
       "      <td>796</td>\n",
       "      <td>411</td>\n",
       "      <td>894</td>\n",
       "    </tr>\n",
       "    <tr>\n",
       "      <th>71-80</th>\n",
       "      <td>967</td>\n",
       "      <td>1381</td>\n",
       "      <td>721</td>\n",
       "      <td>1967</td>\n",
       "      <td>1511</td>\n",
       "      <td>3707</td>\n",
       "    </tr>\n",
       "    <tr>\n",
       "      <th>81-90</th>\n",
       "      <td>408</td>\n",
       "      <td>768</td>\n",
       "      <td>400</td>\n",
       "      <td>772</td>\n",
       "      <td>735</td>\n",
       "      <td>1755</td>\n",
       "    </tr>\n",
       "    <tr>\n",
       "      <th>91-100</th>\n",
       "      <td>291</td>\n",
       "      <td>339</td>\n",
       "      <td>156</td>\n",
       "      <td>573</td>\n",
       "      <td>386</td>\n",
       "      <td>1020</td>\n",
       "    </tr>\n",
       "    <tr>\n",
       "      <th>More than 100 Days</th>\n",
       "      <td>636</td>\n",
       "      <td>738</td>\n",
       "      <td>781</td>\n",
       "      <td>1447</td>\n",
       "      <td>857</td>\n",
       "      <td>2224</td>\n",
       "    </tr>\n",
       "  </tbody>\n",
       "</table>\n",
       "</div>"
      ],
      "text/plain": [
       "Ward_Facility_Code     A     B      C      D      E      F\n",
       "Stay                                                      \n",
       "0-10                2382  2607   3921   3919   3486   7289\n",
       "11-20               6135  7874  12068   9844  15081  27137\n",
       "21-30               7476  8629   7867  15099  16357  32063\n",
       "31-40               5003  6421   5591   9302   9215  19627\n",
       "41-50               1198  1090    595   3351   1704   3805\n",
       "51-60               3155  5059   3225   4739   5608  13232\n",
       "61-70                255   250    138    796    411    894\n",
       "71-80                967  1381    721   1967   1511   3707\n",
       "81-90                408   768    400    772    735   1755\n",
       "91-100               291   339    156    573    386   1020\n",
       "More than 100 Days   636   738    781   1447    857   2224"
      ]
     },
     "execution_count": 21,
     "metadata": {},
     "output_type": "execute_result"
    }
   ],
   "source": [
    "stayVSwfc=pd.pivot_table(df[['Ward_Facility_Code', 'Stay']], index='Ward_Facility_Code', columns='Stay', aggfunc=len).transpose()\n",
    "stayVSwfc"
   ]
  },
  {
   "cell_type": "code",
   "execution_count": 22,
   "id": "d9489dbe",
   "metadata": {},
   "outputs": [
    {
     "name": "stdout",
     "output_type": "stream",
     "text": [
      "\n",
      "Chi-squared test for independence\n",
      "\n",
      "Test              Df    Chi-square    P-value\n",
      "--------------  ----  ------------  ---------\n",
      "Pearson           50       7507.47          0\n",
      "Log-likelihood    50       7255.26          0\n",
      "\n"
     ]
    }
   ],
   "source": [
    "res4=stat()\n",
    "res4.chisq(stayVSwfc)\n",
    "print(res4.summary)"
   ]
  },
  {
   "cell_type": "markdown",
   "id": "3e2026de",
   "metadata": {},
   "source": [
    "Since P-value is less than 0.05, we will be keeping this variable in the model"
   ]
  },
  {
   "cell_type": "markdown",
   "id": "fc064184",
   "metadata": {},
   "source": [
    "**Chi2 test for Type of Admission**"
   ]
  },
  {
   "cell_type": "code",
   "execution_count": 23,
   "id": "853e580e",
   "metadata": {},
   "outputs": [
    {
     "data": {
      "text/html": [
       "<div>\n",
       "<style scoped>\n",
       "    .dataframe tbody tr th:only-of-type {\n",
       "        vertical-align: middle;\n",
       "    }\n",
       "\n",
       "    .dataframe tbody tr th {\n",
       "        vertical-align: top;\n",
       "    }\n",
       "\n",
       "    .dataframe thead th {\n",
       "        text-align: right;\n",
       "    }\n",
       "</style>\n",
       "<table border=\"1\" class=\"dataframe\">\n",
       "  <thead>\n",
       "    <tr style=\"text-align: right;\">\n",
       "      <th>Type of Admission</th>\n",
       "      <th>Emergency</th>\n",
       "      <th>Trauma</th>\n",
       "      <th>Urgent</th>\n",
       "    </tr>\n",
       "    <tr>\n",
       "      <th>Stay</th>\n",
       "      <th></th>\n",
       "      <th></th>\n",
       "      <th></th>\n",
       "    </tr>\n",
       "  </thead>\n",
       "  <tbody>\n",
       "    <tr>\n",
       "      <th>0-10</th>\n",
       "      <td>14218</td>\n",
       "      <td>5328</td>\n",
       "      <td>4058</td>\n",
       "    </tr>\n",
       "    <tr>\n",
       "      <th>11-20</th>\n",
       "      <td>31559</td>\n",
       "      <td>33745</td>\n",
       "      <td>12835</td>\n",
       "    </tr>\n",
       "    <tr>\n",
       "      <th>21-30</th>\n",
       "      <td>27399</td>\n",
       "      <td>46244</td>\n",
       "      <td>13848</td>\n",
       "    </tr>\n",
       "    <tr>\n",
       "      <th>31-40</th>\n",
       "      <td>18921</td>\n",
       "      <td>28107</td>\n",
       "      <td>8131</td>\n",
       "    </tr>\n",
       "    <tr>\n",
       "      <th>41-50</th>\n",
       "      <td>4145</td>\n",
       "      <td>5968</td>\n",
       "      <td>1630</td>\n",
       "    </tr>\n",
       "    <tr>\n",
       "      <th>51-60</th>\n",
       "      <td>11885</td>\n",
       "      <td>18310</td>\n",
       "      <td>4823</td>\n",
       "    </tr>\n",
       "    <tr>\n",
       "      <th>61-70</th>\n",
       "      <td>976</td>\n",
       "      <td>1479</td>\n",
       "      <td>289</td>\n",
       "    </tr>\n",
       "    <tr>\n",
       "      <th>71-80</th>\n",
       "      <td>3375</td>\n",
       "      <td>5551</td>\n",
       "      <td>1328</td>\n",
       "    </tr>\n",
       "    <tr>\n",
       "      <th>81-90</th>\n",
       "      <td>1708</td>\n",
       "      <td>2548</td>\n",
       "      <td>582</td>\n",
       "    </tr>\n",
       "    <tr>\n",
       "      <th>91-100</th>\n",
       "      <td>935</td>\n",
       "      <td>1518</td>\n",
       "      <td>312</td>\n",
       "    </tr>\n",
       "    <tr>\n",
       "      <th>More than 100 Days</th>\n",
       "      <td>2555</td>\n",
       "      <td>3463</td>\n",
       "      <td>665</td>\n",
       "    </tr>\n",
       "  </tbody>\n",
       "</table>\n",
       "</div>"
      ],
      "text/plain": [
       "Type of Admission   Emergency  Trauma  Urgent\n",
       "Stay                                         \n",
       "0-10                    14218    5328    4058\n",
       "11-20                   31559   33745   12835\n",
       "21-30                   27399   46244   13848\n",
       "31-40                   18921   28107    8131\n",
       "41-50                    4145    5968    1630\n",
       "51-60                   11885   18310    4823\n",
       "61-70                     976    1479     289\n",
       "71-80                    3375    5551    1328\n",
       "81-90                    1708    2548     582\n",
       "91-100                    935    1518     312\n",
       "More than 100 Days       2555    3463     665"
      ]
     },
     "execution_count": 23,
     "metadata": {},
     "output_type": "execute_result"
    }
   ],
   "source": [
    "stayVSAdmission=pd.pivot_table(df[['Type of Admission', 'Stay']], index='Type of Admission', columns='Stay', aggfunc=len).transpose()\n",
    "stayVSAdmission"
   ]
  },
  {
   "cell_type": "code",
   "execution_count": 24,
   "id": "e9827fb2",
   "metadata": {},
   "outputs": [
    {
     "name": "stdout",
     "output_type": "stream",
     "text": [
      "\n",
      "Chi-squared test for independence\n",
      "\n",
      "Test              Df    Chi-square    P-value\n",
      "--------------  ----  ------------  ---------\n",
      "Pearson           20       9632.54          0\n",
      "Log-likelihood    20       9896.03          0\n",
      "\n"
     ]
    }
   ],
   "source": [
    "res5=stat()\n",
    "res5.chisq(stayVSAdmission)\n",
    "print(res5.summary)"
   ]
  },
  {
   "cell_type": "markdown",
   "id": "f069547a",
   "metadata": {},
   "source": [
    "Since P-value is less than 0.05, we will be keeping this variable in the model"
   ]
  },
  {
   "cell_type": "markdown",
   "id": "def53487",
   "metadata": {},
   "source": [
    "**Chi2 test for Severity of Illness**"
   ]
  },
  {
   "cell_type": "code",
   "execution_count": 25,
   "id": "af3ac844",
   "metadata": {},
   "outputs": [
    {
     "data": {
      "text/html": [
       "<div>\n",
       "<style scoped>\n",
       "    .dataframe tbody tr th:only-of-type {\n",
       "        vertical-align: middle;\n",
       "    }\n",
       "\n",
       "    .dataframe tbody tr th {\n",
       "        vertical-align: top;\n",
       "    }\n",
       "\n",
       "    .dataframe thead th {\n",
       "        text-align: right;\n",
       "    }\n",
       "</style>\n",
       "<table border=\"1\" class=\"dataframe\">\n",
       "  <thead>\n",
       "    <tr style=\"text-align: right;\">\n",
       "      <th>Severity of Illness</th>\n",
       "      <th>Extreme</th>\n",
       "      <th>Minor</th>\n",
       "      <th>Moderate</th>\n",
       "    </tr>\n",
       "    <tr>\n",
       "      <th>Stay</th>\n",
       "      <th></th>\n",
       "      <th></th>\n",
       "      <th></th>\n",
       "    </tr>\n",
       "  </thead>\n",
       "  <tbody>\n",
       "    <tr>\n",
       "      <th>0-10</th>\n",
       "      <td>3399</td>\n",
       "      <td>7866</td>\n",
       "      <td>12339</td>\n",
       "    </tr>\n",
       "    <tr>\n",
       "      <th>11-20</th>\n",
       "      <td>10518</td>\n",
       "      <td>27081</td>\n",
       "      <td>40540</td>\n",
       "    </tr>\n",
       "    <tr>\n",
       "      <th>21-30</th>\n",
       "      <td>15502</td>\n",
       "      <td>21535</td>\n",
       "      <td>50454</td>\n",
       "    </tr>\n",
       "    <tr>\n",
       "      <th>31-40</th>\n",
       "      <td>10086</td>\n",
       "      <td>14447</td>\n",
       "      <td>30626</td>\n",
       "    </tr>\n",
       "    <tr>\n",
       "      <th>41-50</th>\n",
       "      <td>2351</td>\n",
       "      <td>3000</td>\n",
       "      <td>6392</td>\n",
       "    </tr>\n",
       "    <tr>\n",
       "      <th>51-60</th>\n",
       "      <td>7777</td>\n",
       "      <td>7128</td>\n",
       "      <td>20113</td>\n",
       "    </tr>\n",
       "    <tr>\n",
       "      <th>61-70</th>\n",
       "      <td>647</td>\n",
       "      <td>519</td>\n",
       "      <td>1578</td>\n",
       "    </tr>\n",
       "    <tr>\n",
       "      <th>71-80</th>\n",
       "      <td>2575</td>\n",
       "      <td>1928</td>\n",
       "      <td>5751</td>\n",
       "    </tr>\n",
       "    <tr>\n",
       "      <th>81-90</th>\n",
       "      <td>1113</td>\n",
       "      <td>985</td>\n",
       "      <td>2740</td>\n",
       "    </tr>\n",
       "    <tr>\n",
       "      <th>91-100</th>\n",
       "      <td>805</td>\n",
       "      <td>425</td>\n",
       "      <td>1535</td>\n",
       "    </tr>\n",
       "    <tr>\n",
       "      <th>More than 100 Days</th>\n",
       "      <td>1950</td>\n",
       "      <td>958</td>\n",
       "      <td>3775</td>\n",
       "    </tr>\n",
       "  </tbody>\n",
       "</table>\n",
       "</div>"
      ],
      "text/plain": [
       "Severity of Illness  Extreme  Minor  Moderate\n",
       "Stay                                         \n",
       "0-10                    3399   7866     12339\n",
       "11-20                  10518  27081     40540\n",
       "21-30                  15502  21535     50454\n",
       "31-40                  10086  14447     30626\n",
       "41-50                   2351   3000      6392\n",
       "51-60                   7777   7128     20113\n",
       "61-70                    647    519      1578\n",
       "71-80                   2575   1928      5751\n",
       "81-90                   1113    985      2740\n",
       "91-100                   805    425      1535\n",
       "More than 100 Days      1950    958      3775"
      ]
     },
     "execution_count": 25,
     "metadata": {},
     "output_type": "execute_result"
    }
   ],
   "source": [
    "stayVSseverity=pd.pivot_table(df[['Severity of Illness', 'Stay']], index='Severity of Illness', columns='Stay', aggfunc=len).transpose()\n",
    "stayVSseverity"
   ]
  },
  {
   "cell_type": "code",
   "execution_count": 26,
   "id": "bae0fd67",
   "metadata": {},
   "outputs": [
    {
     "name": "stdout",
     "output_type": "stream",
     "text": [
      "\n",
      "Chi-squared test for independence\n",
      "\n",
      "Test              Df    Chi-square    P-value\n",
      "--------------  ----  ------------  ---------\n",
      "Pearson           20       6616.48          0\n",
      "Log-likelihood    20       6564.47          0\n",
      "\n"
     ]
    }
   ],
   "source": [
    "res6=stat()\n",
    "res6.chisq(stayVSseverity)\n",
    "print(res6.summary)"
   ]
  },
  {
   "cell_type": "markdown",
   "id": "70c85203",
   "metadata": {},
   "source": [
    "Since P-value is less than 0.05, we will be keeping this variable in the model"
   ]
  },
  {
   "cell_type": "markdown",
   "id": "178516c1",
   "metadata": {},
   "source": [
    "**Chi2 test for Age**"
   ]
  },
  {
   "cell_type": "code",
   "execution_count": 27,
   "id": "bf45bd7f",
   "metadata": {},
   "outputs": [
    {
     "data": {
      "text/html": [
       "<div>\n",
       "<style scoped>\n",
       "    .dataframe tbody tr th:only-of-type {\n",
       "        vertical-align: middle;\n",
       "    }\n",
       "\n",
       "    .dataframe tbody tr th {\n",
       "        vertical-align: top;\n",
       "    }\n",
       "\n",
       "    .dataframe thead th {\n",
       "        text-align: right;\n",
       "    }\n",
       "</style>\n",
       "<table border=\"1\" class=\"dataframe\">\n",
       "  <thead>\n",
       "    <tr style=\"text-align: right;\">\n",
       "      <th>Age</th>\n",
       "      <th>0-10</th>\n",
       "      <th>11-20</th>\n",
       "      <th>21-30</th>\n",
       "      <th>31-40</th>\n",
       "      <th>41-50</th>\n",
       "      <th>51-60</th>\n",
       "      <th>61-70</th>\n",
       "      <th>71-80</th>\n",
       "      <th>81-90</th>\n",
       "      <th>91-100</th>\n",
       "    </tr>\n",
       "    <tr>\n",
       "      <th>Stay</th>\n",
       "      <th></th>\n",
       "      <th></th>\n",
       "      <th></th>\n",
       "      <th></th>\n",
       "      <th></th>\n",
       "      <th></th>\n",
       "      <th></th>\n",
       "      <th></th>\n",
       "      <th></th>\n",
       "      <th></th>\n",
       "    </tr>\n",
       "  </thead>\n",
       "  <tbody>\n",
       "    <tr>\n",
       "      <th>0-10</th>\n",
       "      <td>615</td>\n",
       "      <td>1552</td>\n",
       "      <td>3467</td>\n",
       "      <td>4916</td>\n",
       "      <td>4727</td>\n",
       "      <td>3427</td>\n",
       "      <td>2194</td>\n",
       "      <td>2201</td>\n",
       "      <td>422</td>\n",
       "      <td>83</td>\n",
       "    </tr>\n",
       "    <tr>\n",
       "      <th>11-20</th>\n",
       "      <td>1959</td>\n",
       "      <td>5343</td>\n",
       "      <td>11272</td>\n",
       "      <td>15792</td>\n",
       "      <td>14959</td>\n",
       "      <td>11346</td>\n",
       "      <td>7870</td>\n",
       "      <td>7958</td>\n",
       "      <td>1392</td>\n",
       "      <td>248</td>\n",
       "    </tr>\n",
       "    <tr>\n",
       "      <th>21-30</th>\n",
       "      <td>1489</td>\n",
       "      <td>4312</td>\n",
       "      <td>11394</td>\n",
       "      <td>18550</td>\n",
       "      <td>17906</td>\n",
       "      <td>13058</td>\n",
       "      <td>9033</td>\n",
       "      <td>9534</td>\n",
       "      <td>1920</td>\n",
       "      <td>295</td>\n",
       "    </tr>\n",
       "    <tr>\n",
       "      <th>31-40</th>\n",
       "      <td>1014</td>\n",
       "      <td>2681</td>\n",
       "      <td>6912</td>\n",
       "      <td>10912</td>\n",
       "      <td>10983</td>\n",
       "      <td>8569</td>\n",
       "      <td>5930</td>\n",
       "      <td>6420</td>\n",
       "      <td>1504</td>\n",
       "      <td>234</td>\n",
       "    </tr>\n",
       "    <tr>\n",
       "      <th>41-50</th>\n",
       "      <td>187</td>\n",
       "      <td>510</td>\n",
       "      <td>1398</td>\n",
       "      <td>2373</td>\n",
       "      <td>2507</td>\n",
       "      <td>1735</td>\n",
       "      <td>1205</td>\n",
       "      <td>1383</td>\n",
       "      <td>379</td>\n",
       "      <td>66</td>\n",
       "    </tr>\n",
       "    <tr>\n",
       "      <th>51-60</th>\n",
       "      <td>582</td>\n",
       "      <td>1429</td>\n",
       "      <td>3793</td>\n",
       "      <td>6517</td>\n",
       "      <td>7189</td>\n",
       "      <td>5739</td>\n",
       "      <td>4081</td>\n",
       "      <td>4433</td>\n",
       "      <td>1082</td>\n",
       "      <td>173</td>\n",
       "    </tr>\n",
       "    <tr>\n",
       "      <th>61-70</th>\n",
       "      <td>26</td>\n",
       "      <td>89</td>\n",
       "      <td>263</td>\n",
       "      <td>509</td>\n",
       "      <td>562</td>\n",
       "      <td>448</td>\n",
       "      <td>325</td>\n",
       "      <td>378</td>\n",
       "      <td>115</td>\n",
       "      <td>29</td>\n",
       "    </tr>\n",
       "    <tr>\n",
       "      <th>71-80</th>\n",
       "      <td>153</td>\n",
       "      <td>350</td>\n",
       "      <td>1026</td>\n",
       "      <td>1807</td>\n",
       "      <td>2146</td>\n",
       "      <td>1710</td>\n",
       "      <td>1230</td>\n",
       "      <td>1367</td>\n",
       "      <td>402</td>\n",
       "      <td>63</td>\n",
       "    </tr>\n",
       "    <tr>\n",
       "      <th>81-90</th>\n",
       "      <td>84</td>\n",
       "      <td>223</td>\n",
       "      <td>546</td>\n",
       "      <td>801</td>\n",
       "      <td>885</td>\n",
       "      <td>784</td>\n",
       "      <td>600</td>\n",
       "      <td>670</td>\n",
       "      <td>216</td>\n",
       "      <td>29</td>\n",
       "    </tr>\n",
       "    <tr>\n",
       "      <th>91-100</th>\n",
       "      <td>35</td>\n",
       "      <td>71</td>\n",
       "      <td>231</td>\n",
       "      <td>484</td>\n",
       "      <td>578</td>\n",
       "      <td>499</td>\n",
       "      <td>330</td>\n",
       "      <td>386</td>\n",
       "      <td>132</td>\n",
       "      <td>19</td>\n",
       "    </tr>\n",
       "    <tr>\n",
       "      <th>More than 100 Days</th>\n",
       "      <td>110</td>\n",
       "      <td>208</td>\n",
       "      <td>541</td>\n",
       "      <td>978</td>\n",
       "      <td>1307</td>\n",
       "      <td>1199</td>\n",
       "      <td>889</td>\n",
       "      <td>1062</td>\n",
       "      <td>326</td>\n",
       "      <td>63</td>\n",
       "    </tr>\n",
       "  </tbody>\n",
       "</table>\n",
       "</div>"
      ],
      "text/plain": [
       "Age                 0-10  11-20  21-30  31-40  41-50  51-60  61-70  71-80  \\\n",
       "Stay                                                                        \n",
       "0-10                 615   1552   3467   4916   4727   3427   2194   2201   \n",
       "11-20               1959   5343  11272  15792  14959  11346   7870   7958   \n",
       "21-30               1489   4312  11394  18550  17906  13058   9033   9534   \n",
       "31-40               1014   2681   6912  10912  10983   8569   5930   6420   \n",
       "41-50                187    510   1398   2373   2507   1735   1205   1383   \n",
       "51-60                582   1429   3793   6517   7189   5739   4081   4433   \n",
       "61-70                 26     89    263    509    562    448    325    378   \n",
       "71-80                153    350   1026   1807   2146   1710   1230   1367   \n",
       "81-90                 84    223    546    801    885    784    600    670   \n",
       "91-100                35     71    231    484    578    499    330    386   \n",
       "More than 100 Days   110    208    541    978   1307   1199    889   1062   \n",
       "\n",
       "Age                 81-90  91-100  \n",
       "Stay                               \n",
       "0-10                  422      83  \n",
       "11-20                1392     248  \n",
       "21-30                1920     295  \n",
       "31-40                1504     234  \n",
       "41-50                 379      66  \n",
       "51-60                1082     173  \n",
       "61-70                 115      29  \n",
       "71-80                 402      63  \n",
       "81-90                 216      29  \n",
       "91-100                132      19  \n",
       "More than 100 Days    326      63  "
      ]
     },
     "execution_count": 27,
     "metadata": {},
     "output_type": "execute_result"
    }
   ],
   "source": [
    "stayVSAge=pd.pivot_table(df[['Age', 'Stay']], index='Age', columns='Stay', aggfunc=len).transpose()\n",
    "stayVSAge"
   ]
  },
  {
   "cell_type": "code",
   "execution_count": 28,
   "id": "8194e51b",
   "metadata": {},
   "outputs": [
    {
     "name": "stdout",
     "output_type": "stream",
     "text": [
      "\n",
      "Chi-squared test for independence\n",
      "\n",
      "Test              Df    Chi-square    P-value\n",
      "--------------  ----  ------------  ---------\n",
      "Pearson           90       3652.89          0\n",
      "Log-likelihood    90       3581.69          0\n",
      "\n"
     ]
    }
   ],
   "source": [
    "res7=stat()\n",
    "res7.chisq(stayVSAge)\n",
    "print(res7.summary)"
   ]
  },
  {
   "cell_type": "markdown",
   "id": "c7a42822",
   "metadata": {},
   "source": [
    "Since P-value is less than 0.05, we will be keeping this variable in the model"
   ]
  },
  {
   "cell_type": "markdown",
   "id": "c4893fb4",
   "metadata": {},
   "source": [
    "Having completed the feature selection tests for categorical variables we will be moving on to the categorical variables. We have four numeric variables in our model, we will perform a slightly altered form of chi2 to decide which features to keep."
   ]
  },
  {
   "cell_type": "code",
   "execution_count": 29,
   "id": "5fe82a36",
   "metadata": {},
   "outputs": [],
   "source": [
    "from sklearn.feature_selection import SelectKBest\n",
    "from sklearn.feature_selection import chi2"
   ]
  },
  {
   "cell_type": "code",
   "execution_count": 30,
   "id": "e2f76f70",
   "metadata": {},
   "outputs": [],
   "source": [
    "X_num_sel=df[['Available Extra Rooms in Hospital', 'Bed Grade', 'Visitors with Patient', 'Admission_Deposit']]\n",
    "y_num_sel=df['Stay']"
   ]
  },
  {
   "cell_type": "code",
   "execution_count": 31,
   "id": "ab816f0d",
   "metadata": {},
   "outputs": [],
   "source": [
    "chi2_selector = SelectKBest(chi2, k=2)\n",
    "kbest=chi2_selector.fit_transform(X_num_sel, y_num_sel)"
   ]
  },
  {
   "cell_type": "markdown",
   "id": "800bdeda",
   "metadata": {},
   "source": [
    "Using chi2 test we will be calculating the chi2 scores for the given variables. After calculating the chi2 squares we will be selecting only the top two variables **(This is the reason why 'k' has been given a value of 2)**"
   ]
  },
  {
   "cell_type": "code",
   "execution_count": 32,
   "id": "b4eb4c7e",
   "metadata": {
    "scrolled": true
   },
   "outputs": [],
   "source": [
    "chi2_scores=pd.DataFrame(list(zip(X_num_sel.columns, chi2_selector.scores_)), columns=['features', 'scores'])"
   ]
  },
  {
   "cell_type": "code",
   "execution_count": 33,
   "id": "853d2ddf",
   "metadata": {},
   "outputs": [
    {
     "data": {
      "text/html": [
       "<div>\n",
       "<style scoped>\n",
       "    .dataframe tbody tr th:only-of-type {\n",
       "        vertical-align: middle;\n",
       "    }\n",
       "\n",
       "    .dataframe tbody tr th {\n",
       "        vertical-align: top;\n",
       "    }\n",
       "\n",
       "    .dataframe thead th {\n",
       "        text-align: right;\n",
       "    }\n",
       "</style>\n",
       "<table border=\"1\" class=\"dataframe\">\n",
       "  <thead>\n",
       "    <tr style=\"text-align: right;\">\n",
       "      <th></th>\n",
       "      <th>features</th>\n",
       "      <th>scores</th>\n",
       "    </tr>\n",
       "  </thead>\n",
       "  <tbody>\n",
       "    <tr>\n",
       "      <th>0</th>\n",
       "      <td>Available Extra Rooms in Hospital</td>\n",
       "      <td>2.949505e+03</td>\n",
       "    </tr>\n",
       "    <tr>\n",
       "      <th>1</th>\n",
       "      <td>Bed Grade</td>\n",
       "      <td>1.268505e+03</td>\n",
       "    </tr>\n",
       "    <tr>\n",
       "      <th>2</th>\n",
       "      <td>Visitors with Patient</td>\n",
       "      <td>1.007976e+05</td>\n",
       "    </tr>\n",
       "    <tr>\n",
       "      <th>3</th>\n",
       "      <td>Admission_Deposit</td>\n",
       "      <td>1.116662e+06</td>\n",
       "    </tr>\n",
       "  </tbody>\n",
       "</table>\n",
       "</div>"
      ],
      "text/plain": [
       "                            features        scores\n",
       "0  Available Extra Rooms in Hospital  2.949505e+03\n",
       "1                          Bed Grade  1.268505e+03\n",
       "2              Visitors with Patient  1.007976e+05\n",
       "3                  Admission_Deposit  1.116662e+06"
      ]
     },
     "execution_count": 33,
     "metadata": {},
     "output_type": "execute_result"
    }
   ],
   "source": [
    "chi2_scores"
   ]
  },
  {
   "cell_type": "code",
   "execution_count": 34,
   "id": "1851f53d",
   "metadata": {},
   "outputs": [
    {
     "data": {
      "text/plain": [
       "array(['Visitors with Patient', 'Admission_Deposit'], dtype=object)"
      ]
     },
     "execution_count": 34,
     "metadata": {},
     "output_type": "execute_result"
    }
   ],
   "source": [
    "np.asarray(X_num_sel.columns)[chi2_selector.get_support()]"
   ]
  },
  {
   "cell_type": "markdown",
   "id": "60e1fc3e",
   "metadata": {},
   "source": [
    "So, we will be selecting only these two columns for the model and will be dropping the other two features."
   ]
  },
  {
   "cell_type": "code",
   "execution_count": 35,
   "id": "deb74f13",
   "metadata": {},
   "outputs": [],
   "source": [
    "df=df.drop(['Available Extra Rooms in Hospital', 'Bed Grade'], axis=1)"
   ]
  },
  {
   "cell_type": "markdown",
   "id": "dae1f09e",
   "metadata": {},
   "source": [
    "Recall that during EDA, we found that 'Visitors with Patient' was a highly skewed feature with many outliers. To solve this issue we will be using log transformation to make this data normally distributed"
   ]
  },
  {
   "cell_type": "code",
   "execution_count": 36,
   "id": "4196b246",
   "metadata": {},
   "outputs": [
    {
     "name": "stderr",
     "output_type": "stream",
     "text": [
      "C:\\Users\\Faayez\\anaconda3\\lib\\site-packages\\pandas\\core\\arraylike.py:397: RuntimeWarning: divide by zero encountered in log10\n",
      "  result = getattr(ufunc, method)(*inputs, **kwargs)\n"
     ]
    }
   ],
   "source": [
    "df['Visitors with Patient']=np.log10(df['Visitors with Patient'])"
   ]
  },
  {
   "cell_type": "code",
   "execution_count": 37,
   "id": "51918e20",
   "metadata": {},
   "outputs": [
    {
     "data": {
      "text/plain": [
       "0         0.301030\n",
       "1         0.301030\n",
       "2         0.301030\n",
       "3         0.301030\n",
       "4         0.301030\n",
       "            ...   \n",
       "318433    0.477121\n",
       "318434    0.602060\n",
       "318435    0.477121\n",
       "318436    0.698970\n",
       "318437    0.301030\n",
       "Name: Visitors with Patient, Length: 318438, dtype: float64"
      ]
     },
     "execution_count": 37,
     "metadata": {},
     "output_type": "execute_result"
    }
   ],
   "source": [
    "df['Visitors with Patient']"
   ]
  },
  {
   "cell_type": "markdown",
   "id": "7846104a",
   "metadata": {},
   "source": [
    "# MODEL BUILDING"
   ]
  },
  {
   "cell_type": "markdown",
   "id": "c3739878",
   "metadata": {},
   "source": [
    "Having engineered and selected the features, we are now in a position to start building our model. \n",
    "\n",
    "**Let us begin by assigining dummies to our categorical variables**"
   ]
  },
  {
   "cell_type": "markdown",
   "id": "3f76ddf1",
   "metadata": {},
   "source": [
    "Dummies for 'Department'"
   ]
  },
  {
   "cell_type": "code",
   "execution_count": 38,
   "id": "ce1ac471",
   "metadata": {},
   "outputs": [],
   "source": [
    "dumms=pd.get_dummies(df['Department'])\n",
    "df=pd.concat([df, dumms], axis=1)\n",
    "df.drop(['Department', 'surgery'], inplace=True, axis=1)"
   ]
  },
  {
   "cell_type": "markdown",
   "id": "5cee7410",
   "metadata": {},
   "source": [
    "Dummies for 'Type of Admission'"
   ]
  },
  {
   "cell_type": "code",
   "execution_count": 39,
   "id": "e2101f16",
   "metadata": {},
   "outputs": [],
   "source": [
    "dumms1=pd.get_dummies(df['Type of Admission'])\n",
    "df=pd.concat([df, dumms1], axis=1)\n",
    "df.drop(['Type of Admission', 'Urgent'], inplace=True, axis=1)"
   ]
  },
  {
   "cell_type": "markdown",
   "id": "416e4aeb",
   "metadata": {},
   "source": [
    "Dummies for 'Severity of Illness'"
   ]
  },
  {
   "cell_type": "code",
   "execution_count": 40,
   "id": "72c27b8e",
   "metadata": {},
   "outputs": [],
   "source": [
    "dumms2=pd.get_dummies(df['Severity of Illness'])\n",
    "df=pd.concat([df, dumms2], axis=1)\n",
    "df.drop(['Severity of Illness', 'Moderate'], inplace=True, axis=1)"
   ]
  },
  {
   "cell_type": "markdown",
   "id": "ff4ff2de",
   "metadata": {},
   "source": [
    "Dummies for 'Age'"
   ]
  },
  {
   "cell_type": "code",
   "execution_count": 41,
   "id": "3cff543b",
   "metadata": {},
   "outputs": [],
   "source": [
    "dumms3=pd.get_dummies(df['Age'])\n",
    "df=pd.concat([df, dumms3], axis=1)\n",
    "df.drop(['Age', '91-100'], inplace=True, axis=1)"
   ]
  },
  {
   "cell_type": "markdown",
   "id": "c3d35812",
   "metadata": {},
   "source": [
    "Dummies for 'Hospital_type_code'"
   ]
  },
  {
   "cell_type": "code",
   "execution_count": 42,
   "id": "a2771df1",
   "metadata": {},
   "outputs": [],
   "source": [
    "dumms5=pd.get_dummies(df['Hospital_type_code'])\n",
    "df=pd.concat([df, dumms5], axis=1)\n",
    "df.drop(['Hospital_type_code', 'g'], inplace=True, axis=1)"
   ]
  },
  {
   "cell_type": "markdown",
   "id": "106b2a7b",
   "metadata": {},
   "source": [
    "Dummies for 'Hospital_region_code'"
   ]
  },
  {
   "cell_type": "code",
   "execution_count": 43,
   "id": "4df479b6",
   "metadata": {},
   "outputs": [],
   "source": [
    "dumms7=pd.get_dummies(df['Hospital_region_code'])\n",
    "df=pd.concat([df, dumms7], axis=1)\n",
    "df.drop(['Hospital_region_code', 'Z'], inplace=True, axis=1)"
   ]
  },
  {
   "cell_type": "markdown",
   "id": "3c00c195",
   "metadata": {},
   "source": [
    "Dummies for 'Ward_Type'"
   ]
  },
  {
   "cell_type": "code",
   "execution_count": 44,
   "id": "a5ebdae9",
   "metadata": {},
   "outputs": [],
   "source": [
    "dumms8=pd.get_dummies(df['Ward_Type'])\n",
    "df=pd.concat([df, dumms8], axis=1)\n",
    "df.drop(['Ward_Type', 'U'], inplace=True, axis=1)"
   ]
  },
  {
   "cell_type": "markdown",
   "id": "8c79001e",
   "metadata": {},
   "source": [
    "Dummies for 'Ward_Facility_Code'"
   ]
  },
  {
   "cell_type": "code",
   "execution_count": 45,
   "id": "8d31b17b",
   "metadata": {},
   "outputs": [],
   "source": [
    "dumms9=pd.get_dummies(df['Ward_Facility_Code'])\n",
    "df=pd.concat([df, dumms9], axis=1)\n",
    "df.drop(['Ward_Facility_Code', 'F'], inplace=True, axis=1)"
   ]
  },
  {
   "cell_type": "markdown",
   "id": "d6e10e44",
   "metadata": {},
   "source": [
    "We need to assign numbers to our target feature 'Stay':"
   ]
  },
  {
   "cell_type": "code",
   "execution_count": 46,
   "id": "9c2535dd",
   "metadata": {},
   "outputs": [
    {
     "data": {
      "text/plain": [
       "array(['0-10', '41-50', '31-40', '11-20', '51-60', '21-30', '71-80',\n",
       "       'More than 100 Days', '81-90', '61-70', '91-100'], dtype=object)"
      ]
     },
     "execution_count": 46,
     "metadata": {},
     "output_type": "execute_result"
    }
   ],
   "source": [
    "df['Stay'].unique()"
   ]
  },
  {
   "cell_type": "code",
   "execution_count": 47,
   "id": "76c77cce",
   "metadata": {},
   "outputs": [],
   "source": [
    "df['Stay']=df['Stay'].replace({'0-10':1, '41-50':5, '31-40':4, '11-20':2, '51-60':6, '21-30':3, '71-80':8,'More than 100 Days':11, '81-90':9, '61-70':7, '91-100':10})"
   ]
  },
  {
   "cell_type": "markdown",
   "id": "ebd5ac20",
   "metadata": {},
   "source": [
    "**We can now split the data**"
   ]
  },
  {
   "cell_type": "code",
   "execution_count": 48,
   "id": "70a862a1",
   "metadata": {},
   "outputs": [],
   "source": [
    "from sklearn.model_selection import train_test_split"
   ]
  },
  {
   "cell_type": "code",
   "execution_count": 49,
   "id": "0439f28b",
   "metadata": {},
   "outputs": [],
   "source": [
    "X=df.drop('Stay', axis=1)\n",
    "y=df['Stay']"
   ]
  },
  {
   "cell_type": "markdown",
   "id": "65a733db",
   "metadata": {},
   "source": [
    "Before we proceed, recall that in EDA we observed that the dependent variable, which is a categorical variable had imbalanced class counts. To remove this balance we will be performing oversampling on our data and then split it."
   ]
  },
  {
   "cell_type": "code",
   "execution_count": 50,
   "id": "da3946a8",
   "metadata": {},
   "outputs": [],
   "source": [
    "from imblearn.over_sampling import RandomOverSampler  \n",
    "\n",
    "over_sampler = RandomOverSampler()\n",
    "X_res, y_res = over_sampler.fit_resample(X, y)"
   ]
  },
  {
   "cell_type": "markdown",
   "id": "104dbc0a",
   "metadata": {},
   "source": [
    "**NOTE:** We have used oversampling instead of undersampling here because the minority classes had so few number of counts that the size of the entire training set reduced from 300k+ to just around 30k. With 11 classes to predict, such a small amount of data resulted in a machine learning model which had an accuracy of just 30%. So, oversampling has been used. The oversampling increased the data size from 300k to around 900k which obviously made the training time for the model longer. But this model, as we will see in the model evaluation step, will give an impressive accuracy rate of around 84%."
   ]
  },
  {
   "cell_type": "markdown",
   "id": "3237572f",
   "metadata": {},
   "source": [
    "We can now split the data"
   ]
  },
  {
   "cell_type": "code",
   "execution_count": 51,
   "id": "54fad2f6",
   "metadata": {
    "scrolled": true
   },
   "outputs": [],
   "source": [
    "X_train, X_test, y_train,  y_test = train_test_split(X_res, y_res, test_size=0.25, random_state=101)"
   ]
  },
  {
   "cell_type": "markdown",
   "id": "9423c03c",
   "metadata": {},
   "source": [
    "**TRAINING AND TESTING THE MODEL**"
   ]
  },
  {
   "cell_type": "markdown",
   "id": "d3fcbb8d",
   "metadata": {},
   "source": [
    "For our data we will be using random forest classifier"
   ]
  },
  {
   "cell_type": "code",
   "execution_count": 52,
   "id": "4d3d3095",
   "metadata": {},
   "outputs": [],
   "source": [
    "from sklearn.ensemble import RandomForestClassifier"
   ]
  },
  {
   "cell_type": "markdown",
   "id": "ca1de0f1",
   "metadata": {},
   "source": [
    "**NOTE**: We are adding an additional step here of removing positive infinity from our data. Though this was not encountered in data preprocessing, but when the RandomForestClassifier was run without replacing positive infinity, the following error showed up: **\"Input contains infinity or a value too large for dtype('float32')**, and therefore the following four steps are being implemented:"
   ]
  },
  {
   "cell_type": "code",
   "execution_count": 53,
   "id": "ea377ca0",
   "metadata": {},
   "outputs": [],
   "source": [
    "X_train = X_train.replace((np.inf, -np.inf, np.nan), 0).reset_index(drop=True)"
   ]
  },
  {
   "cell_type": "code",
   "execution_count": 54,
   "id": "1f6a8491",
   "metadata": {},
   "outputs": [],
   "source": [
    "X_test = X_test.replace((np.inf, -np.inf, np.nan), 0).reset_index(drop=True)"
   ]
  },
  {
   "cell_type": "code",
   "execution_count": 55,
   "id": "939220fc",
   "metadata": {},
   "outputs": [],
   "source": [
    "y_train = y_train.replace((np.inf, -np.inf, np.nan), 0).reset_index(drop=True)"
   ]
  },
  {
   "cell_type": "code",
   "execution_count": 56,
   "id": "1b203749",
   "metadata": {},
   "outputs": [],
   "source": [
    "y_test = y_test.replace((np.inf, -np.inf, np.nan), 0).reset_index(drop=True)"
   ]
  },
  {
   "cell_type": "code",
   "execution_count": 57,
   "id": "70274918",
   "metadata": {},
   "outputs": [
    {
     "data": {
      "text/plain": [
       "((721800, 37), (240601, 37))"
      ]
     },
     "execution_count": 57,
     "metadata": {},
     "output_type": "execute_result"
    }
   ],
   "source": [
    "X_train.shape, X_test.shape"
   ]
  },
  {
   "cell_type": "markdown",
   "id": "5bfaf848",
   "metadata": {},
   "source": [
    "We can now train our model:"
   ]
  },
  {
   "cell_type": "code",
   "execution_count": 58,
   "id": "20200f35",
   "metadata": {},
   "outputs": [
    {
     "data": {
      "text/plain": [
       "RandomForestClassifier()"
      ]
     },
     "execution_count": 58,
     "metadata": {},
     "output_type": "execute_result"
    }
   ],
   "source": [
    "rfc = RandomForestClassifier()\n",
    "rfc.fit(X_train, y_train)"
   ]
  },
  {
   "cell_type": "code",
   "execution_count": 59,
   "id": "76dafae7",
   "metadata": {},
   "outputs": [],
   "source": [
    "rfc_predict = rfc.predict(X_test)"
   ]
  },
  {
   "cell_type": "code",
   "execution_count": 60,
   "id": "c6e1234a",
   "metadata": {},
   "outputs": [
    {
     "data": {
      "text/plain": [
       "array([ 2,  6,  9, ...,  6,  2, 11], dtype=int64)"
      ]
     },
     "execution_count": 60,
     "metadata": {},
     "output_type": "execute_result"
    }
   ],
   "source": [
    "rfc_predict"
   ]
  },
  {
   "cell_type": "markdown",
   "id": "60f408c3",
   "metadata": {},
   "source": [
    "**MODEL EVALUATION**"
   ]
  },
  {
   "cell_type": "code",
   "execution_count": 61,
   "id": "1b12877f",
   "metadata": {},
   "outputs": [],
   "source": [
    "from sklearn.metrics import classification_report, confusion_matrix"
   ]
  },
  {
   "cell_type": "code",
   "execution_count": 62,
   "id": "44550e65",
   "metadata": {},
   "outputs": [
    {
     "name": "stdout",
     "output_type": "stream",
     "text": [
      "              precision    recall  f1-score   support\n",
      "\n",
      "           1       0.81      0.95      0.87     21833\n",
      "           2       0.52      0.42      0.47     21845\n",
      "           3       0.47      0.35      0.40     21782\n",
      "           4       0.67      0.64      0.65     21975\n",
      "           5       0.89      1.00      0.94     21810\n",
      "           6       0.83      0.88      0.85     21983\n",
      "           7       0.97      1.00      0.99     21690\n",
      "           8       0.95      1.00      0.97     21927\n",
      "           9       0.98      1.00      0.99     22017\n",
      "          10       0.99      1.00      0.99     21836\n",
      "          11       0.98      1.00      0.99     21903\n",
      "\n",
      "    accuracy                           0.84    240601\n",
      "   macro avg       0.82      0.84      0.83    240601\n",
      "weighted avg       0.82      0.84      0.83    240601\n",
      "\n"
     ]
    }
   ],
   "source": [
    "print(classification_report(y_test, rfc_predict))"
   ]
  },
  {
   "cell_type": "code",
   "execution_count": 63,
   "id": "e383f06d",
   "metadata": {},
   "outputs": [
    {
     "name": "stdout",
     "output_type": "stream",
     "text": [
      "[[20741   392   352   151    72    73    30     5     5     5     7]\n",
      " [ 2086  9249  5502  2605   802  1042   137   236    52    60    74]\n",
      " [ 2138  5960  7595  3248  1157   960   242   216   113    45   108]\n",
      " [  653  1875  2262 13980   495  1818   100   432   130   110   120]\n",
      " [    5     8    16     9 21745    10     3     2     2    10     0]\n",
      " [  114   440   322   926   132 19260    48   368   150    71   152]\n",
      " [    0     0     0     0     0     0 21690     0     0     0     0]\n",
      " [    0     0     0     2    14    10     6 21857    12    17     9]\n",
      " [    0     0     0     0     0     0     0     0 22017     0     0]\n",
      " [    0     0     0     0     0     0     0     0     0 21836     0]\n",
      " [    0     0     0     0     0     0     4     0     9     3 21887]]\n"
     ]
    }
   ],
   "source": [
    "print(confusion_matrix(y_test, rfc_predict))"
   ]
  },
  {
   "cell_type": "code",
   "execution_count": 64,
   "id": "3549a124",
   "metadata": {},
   "outputs": [
    {
     "data": {
      "text/plain": [
       "0.8389699128432551"
      ]
     },
     "execution_count": 64,
     "metadata": {},
     "output_type": "execute_result"
    }
   ],
   "source": [
    "from sklearn.metrics import accuracy_score\n",
    "accuracy_score(y_test, rfc_predict)"
   ]
  },
  {
   "cell_type": "markdown",
   "id": "d809b9e4",
   "metadata": {},
   "source": [
    "An accuracy score of 84% is quite good and there might be scope for improving it by performing parameter hypertuning. But given the size of the dataset and the available resources, hypertuning the model is currently not possible."
   ]
  }
 ],
 "metadata": {
  "kernelspec": {
   "display_name": "Python 3 (ipykernel)",
   "language": "python",
   "name": "python3"
  },
  "language_info": {
   "codemirror_mode": {
    "name": "ipython",
    "version": 3
   },
   "file_extension": ".py",
   "mimetype": "text/x-python",
   "name": "python",
   "nbconvert_exporter": "python",
   "pygments_lexer": "ipython3",
   "version": "3.9.13"
  }
 },
 "nbformat": 4,
 "nbformat_minor": 5
}
